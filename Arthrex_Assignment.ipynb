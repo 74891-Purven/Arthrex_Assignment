{
 "cells": [
  {
   "cell_type": "code",
   "execution_count": 88,
   "id": "98ce8acd",
   "metadata": {},
   "outputs": [
    {
     "name": "stdout",
     "output_type": "stream",
     "text": [
      "['cake', 'snake', 'lake']\n",
      "['jazz', 'zebra', 'zoo']\n",
      "['cake', 'snake', 'lake', 'ack']\n",
      "['ack']\n",
      "[]\n"
     ]
    }
   ],
   "source": [
    "def auto_suggest(words, inp):\n",
    "    matching_words = []\n",
    "    pattern = \"\"\n",
    "    \n",
    "    if not inp:  # Handle empty phrase case\n",
    "        return words\n",
    "\n",
    "    first_char = inp[0]\n",
    "\n",
    "    if not first_char.isalnum():  # Check if the first character is a non-alphanumeric symbol\n",
    "        \n",
    "        seen = set()\n",
    "        for char in inp:\n",
    "            if char not in seen:\n",
    "                pattern += char\n",
    "                seen.add(char)\n",
    "        pattern = pattern[1:]  # Skip the first symbol\n",
    "        if not pattern:\n",
    "            return []\n",
    "    else:\n",
    "        pattern = inp\n",
    "\n",
    "    for word in words:\n",
    "        if word.endswith(pattern) or pattern in word:\n",
    "            matching_words.append(word)\n",
    "\n",
    "    return matching_words\n",
    "\n",
    "# Test cases\n",
    "words = [\"cake\", \"snake\", \"lake\", \"ack\", \"jazz\", \"zebra\", \"zoo\", \"sam\"]\n",
    "inp1 = \"ke\"\n",
    "inp2 = \"********************************************z\"\n",
    "inp3 = \"*k*\"\n",
    "inp4 = \"!ack\"\n",
    "inp5 = \"$\"\n",
    "\n",
    "print(auto_suggest(words, inp1))  # Expected output: [\"cake\", \"snake\", \"lake\"]\n",
    "print(auto_suggest(words, inp2))  # Expected output: ['jazz', 'zebra', 'zoo']\n",
    "print(auto_suggest(words, inp3))  # Expected output: ['cake', 'snake', 'lake', 'ack']\n",
    "print(auto_suggest(words, inp4))  # Expected output: ['ack']\n",
    "print(auto_suggest(words, inp5))  # Expected output: []\n"
   ]
  },
  {
   "cell_type": "code",
   "execution_count": null,
   "id": "729fc495",
   "metadata": {},
   "outputs": [],
   "source": []
  }
 ],
 "metadata": {
  "kernelspec": {
   "display_name": "Python 3 (ipykernel)",
   "language": "python",
   "name": "python3"
  },
  "language_info": {
   "codemirror_mode": {
    "name": "ipython",
    "version": 3
   },
   "file_extension": ".py",
   "mimetype": "text/x-python",
   "name": "python",
   "nbconvert_exporter": "python",
   "pygments_lexer": "ipython3",
   "version": "3.11.4"
  }
 },
 "nbformat": 4,
 "nbformat_minor": 5
}
